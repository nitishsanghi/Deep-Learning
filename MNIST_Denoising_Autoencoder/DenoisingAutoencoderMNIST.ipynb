{
  "nbformat": 4,
  "nbformat_minor": 0,
  "metadata": {
    "colab": {
      "provenance": [],
      "gpuType": "T4"
    },
    "kernelspec": {
      "name": "python3",
      "display_name": "Python 3"
    },
    "language_info": {
      "name": "python"
    },
    "accelerator": "GPU"
  },
  "cells": [
    {
      "cell_type": "code",
      "execution_count": null,
      "metadata": {
        "colab": {
          "base_uri": "https://localhost:8080/"
        },
        "id": "a-QmqKAznrV-",
        "outputId": "9fbfb79f-abdf-4cce-a315-e79b75ca2773"
      },
      "outputs": [
        {
          "output_type": "stream",
          "name": "stdout",
          "text": [
            "Drive already mounted at /content/drive; to attempt to forcibly remount, call drive.mount(\"/content/drive\", force_remount=True).\n"
          ]
        }
      ],
      "source": [
        "from google.colab import drive\n",
        "drive.mount('/content/drive')\n",
        "!cp drive/MyDrive/helpers.py ."
      ]
    },
    {
      "cell_type": "code",
      "source": [
        "import torch\n",
        "import numpy as np\n",
        "from torchvision import datasets\n",
        "from torch import nn\n",
        "import torchvision.models\n",
        "import torchvision.transforms as transforms\n",
        "import multiprocessing\n",
        "from tqdm import tqdm\n",
        "from helpers import get_data_loaders\n",
        "from helpers import seed_all\n",
        "from helpers import anomaly_detection_display\n",
        "import pandas as pd\n",
        "\n",
        "# Ensure repeatibility\n",
        "seed_all(42)"
      ],
      "metadata": {
        "id": "FKXOszbuoPfL"
      },
      "execution_count": null,
      "outputs": []
    },
    {
      "cell_type": "code",
      "source": [
        "# This will get data loaders for the MNIST dataset for the train, validation\n",
        "# and test dataset\n",
        "data_loaders = get_data_loaders(batch_size=20)"
      ],
      "metadata": {
        "colab": {
          "base_uri": "https://localhost:8080/"
        },
        "id": "2cc6qv2YoRMQ",
        "outputId": "d59c150b-d01a-4126-aff3-d5b74bd4defa"
      },
      "execution_count": null,
      "outputs": [
        {
          "output_type": "stream",
          "name": "stdout",
          "text": [
            "Using 48000 examples for training and 12000 for validation\n",
            "Using 10000 for testing\n"
          ]
        }
      ]
    },
    {
      "cell_type": "code",
      "source": [
        "import matplotlib.pyplot as plt\n",
        "%matplotlib inline\n",
        "\n",
        "# obtain one batch of training images\n",
        "dataiter = iter(data_loaders['train'])\n",
        "images, labels = next(dataiter)\n",
        "images = images.numpy()\n",
        "\n",
        "# get one image from the batch\n",
        "img = np.squeeze(images[0])\n",
        "\n",
        "fig, sub = plt.subplots(figsize = (2,2))\n",
        "sub.imshow(img, cmap='gray')\n",
        "_ = sub.axis(\"off\")"
      ],
      "metadata": {
        "colab": {
          "base_uri": "https://localhost:8080/",
          "height": 191
        },
        "id": "fyBqSxrPoTDq",
        "outputId": "226a5c5e-0cee-4267-f934-a3e0ea935753"
      },
      "execution_count": null,
      "outputs": [
        {
          "output_type": "display_data",
          "data": {
            "text/plain": [
              "<Figure size 200x200 with 1 Axes>"
            ],
            "image/png": "[encoded data removed]"
          },
          "metadata": {}
        }
      ]
    },
    {
      "cell_type": "code",
      "source": [
        "import torch.nn as nn\n",
        "import torch.nn.functional as F\n",
        "\n",
        "# define the NN architecture\n",
        "class ConvDenoiser(nn.Module):\n",
        "    def __init__(self):\n",
        "        super(ConvDenoiser, self).__init__()\n",
        "        ## encoder layers ##\n",
        "        self.encoder = nn.Sequential(\n",
        "                       nn.Conv2d(1,16,kernel_size=3, stride=1, padding=1),\n",
        "                       nn.ReLU(),\n",
        "                       nn.BatchNorm2d(16),\n",
        "                       nn.MaxPool2d(2,2),\n",
        "                       nn.Conv2d(16,32,kernel_size=3, stride=1, padding=1),\n",
        "                       nn.ReLU(),\n",
        "                       nn.BatchNorm2d(32),\n",
        "                       nn.MaxPool2d(2,2)\n",
        "        )\n",
        "\n",
        "        self.decoder = nn.Sequential(\n",
        "                       nn.ConvTranspose2d(32,16,kernel_size=3,\n",
        "                               stride=2,\n",
        "                               padding=1,\n",
        "                               output_padding=1),\n",
        "                       nn.ReLU(),\n",
        "                       nn.BatchNorm2d(16),\n",
        "                       nn.ConvTranspose2d(16,1,kernel_size=3,\n",
        "                               stride=2,\n",
        "                               padding=1,\n",
        "                               output_padding=1),\n",
        "                       nn.Sigmoid()\n",
        "        )\n",
        "\n",
        "        self.model = nn.Sequential(\n",
        "            self.encoder,\n",
        "            self.decoder\n",
        "        )\n",
        "\n",
        "    def forward(self, x):\n",
        "\n",
        "        return self.model(x)\n",
        "\n",
        "\n",
        "# initialize the NN\n",
        "model = ConvDenoiser()"
      ],
      "metadata": {
        "id": "8RV3ct4poXST"
      },
      "execution_count": null,
      "outputs": []
    },
    {
      "cell_type": "code",
      "source": [
        "# specify loss function\n",
        "criterion = nn.MSELoss()\n",
        "\n",
        "# specify loss function\n",
        "optimizer = torch.optim.Adam(model.parameters(), lr=0.001)"
      ],
      "metadata": {
        "id": "QLg6DKHloZNK"
      },
      "execution_count": null,
      "outputs": []
    },
    {
      "cell_type": "code",
      "source": [
        "# number of epochs to train the model\n",
        "n_epochs = 20\n",
        "\n",
        "# for adding noise to images\n",
        "noise_factor=0.5\n",
        "\n",
        "for epoch in range(1, n_epochs+1):\n",
        "\n",
        "    if torch.cuda.is_available():\n",
        "        model = model.cuda()\n",
        "\n",
        "    # monitor training loss\n",
        "    train_loss = 0.0\n",
        "\n",
        "    ###################\n",
        "    # train the model #\n",
        "    ###################\n",
        "    for data in tqdm(\n",
        "        desc=\"Training\",\n",
        "        total=len(data_loaders['train']),\n",
        "        iterable=data_loaders['train'],\n",
        "        ncols=80\n",
        "    ):\n",
        "        # _ stands in for labels, here\n",
        "        # no need to flatten images\n",
        "        images, _ = data\n",
        "\n",
        "        if torch.cuda.is_available():\n",
        "            images = images.cuda()\n",
        "\n",
        "        ## add random noise to the input images\n",
        "        noisy_imgs = images + noise_factor * torch.rand_like(images)\n",
        "        # Clip the images to be between 0 and 1\n",
        "        noisy_imgs = torch.clamp(noisy_imgs, 0., 1.)\n",
        "\n",
        "        # clear the gradients of all optimized variables\n",
        "        optimizer.zero_grad()\n",
        "        ## forward pass: compute predicted outputs by passing *noisy* images to the model\n",
        "        outputs = model(noisy_imgs)\n",
        "\n",
        "        # calculate the loss\n",
        "        # the \"target\" is still the original, not-noisy images\n",
        "        loss = criterion(images, outputs)\n",
        "\n",
        "        # backward pass: compute gradient of the loss with respect to model parameters\n",
        "        loss.backward()\n",
        "        # perform a single optimization step (parameter update)\n",
        "        optimizer.step()\n",
        "        # update running training loss\n",
        "        train_loss += loss.item()*images.size(0)\n",
        "\n",
        "    # Validation\n",
        "    val_loss = 0\n",
        "    with torch.no_grad():\n",
        "        for data in tqdm(desc=\"Validating\", total=len(data_loaders['valid']), iterable=data_loaders['valid'],\n",
        "        ncols=80):\n",
        "            # _ stands in for labels, here\n",
        "            # no need to flatten images\n",
        "            images, _ = data\n",
        "\n",
        "            if torch.cuda.is_available():\n",
        "                images = images.cuda()\n",
        "\n",
        "            ## add random noise to the input images\n",
        "            noisy_imgs = images + noise_factor * torch.rand_like(images)\n",
        "            # Clip the images to be between 0 and 1\n",
        "            noisy_imgs = torch.clamp(noisy_imgs, 0., 1.)\n",
        "\n",
        "            ## forward pass: compute predicted outputs by passing *noisy* images to the model\n",
        "            outputs = model(noisy_imgs)\n",
        "            # calculate the loss\n",
        "            # the \"target\" is still the original, not-noisy images\n",
        "            loss = criterion(outputs, images)\n",
        "\n",
        "            # update running training loss\n",
        "            val_loss += loss.item()*images.size(0)\n",
        "\n",
        "    # print avg training statistics\n",
        "    train_loss /= len(data_loaders['train'].dataset)\n",
        "    val_loss /= len(data_loaders['valid'].dataset)\n",
        "    print(\"Epoch: {} \\tTraining Loss: {:.6f}\\tValid Loss: {:.6f}\".format(epoch, train_loss, val_loss))"
      ],
      "metadata": {
        "colab": {
          "base_uri": "https://localhost:8080/"
        },
        "id": "FS7wi2gBoawj",
        "outputId": "63e080c3-5325-4432-a6ca-0feca804d5cd"
      },
      "execution_count": null,
      "outputs": [
        {
          "output_type": "stream",
          "name": "stderr",
          "text": [
            "Training: 100%|████████████████████████████| 2400/2400 [00:15<00:00, 152.27it/s]\n",
            "Validating: 100%|████████████████████████████| 600/600 [00:03<00:00, 193.64it/s]\n"
          ]
        },
        {
          "output_type": "stream",
          "name": "stdout",
          "text": [
            "Epoch: 1 \tTraining Loss: 0.010613\tValid Loss: 0.004038\n"
          ]
        },
        {
          "output_type": "stream",
          "name": "stderr",
          "text": [
            "Training: 100%|████████████████████████████| 2400/2400 [00:15<00:00, 150.74it/s]\n",
            "Validating: 100%|████████████████████████████| 600/600 [00:02<00:00, 238.03it/s]\n"
          ]
        },
        {
          "output_type": "stream",
          "name": "stdout",
          "text": [
            "Epoch: 2 \tTraining Loss: 0.003706\tValid Loss: 0.003461\n"
          ]
        },
        {
          "output_type": "stream",
          "name": "stderr",
          "text": [
            "Training: 100%|████████████████████████████| 2400/2400 [00:14<00:00, 162.05it/s]\n",
            "Validating: 100%|████████████████████████████| 600/600 [00:02<00:00, 228.34it/s]\n"
          ]
        },
        {
          "output_type": "stream",
          "name": "stdout",
          "text": [
            "Epoch: 3 \tTraining Loss: 0.003384\tValid Loss: 0.003239\n"
          ]
        },
        {
          "output_type": "stream",
          "name": "stderr",
          "text": [
            "Training: 100%|████████████████████████████| 2400/2400 [00:15<00:00, 158.36it/s]\n",
            "Validating: 100%|████████████████████████████| 600/600 [00:03<00:00, 153.22it/s]\n"
          ]
        },
        {
          "output_type": "stream",
          "name": "stdout",
          "text": [
            "Epoch: 4 \tTraining Loss: 0.003193\tValid Loss: 0.003127\n"
          ]
        },
        {
          "output_type": "stream",
          "name": "stderr",
          "text": [
            "Training: 100%|████████████████████████████| 2400/2400 [00:15<00:00, 159.49it/s]\n",
            "Validating: 100%|████████████████████████████| 600/600 [00:02<00:00, 227.87it/s]\n"
          ]
        },
        {
          "output_type": "stream",
          "name": "stdout",
          "text": [
            "Epoch: 5 \tTraining Loss: 0.003079\tValid Loss: 0.002995\n"
          ]
        },
        {
          "output_type": "stream",
          "name": "stderr",
          "text": [
            "Training: 100%|████████████████████████████| 2400/2400 [00:14<00:00, 160.99it/s]\n",
            "Validating: 100%|████████████████████████████| 600/600 [00:02<00:00, 230.95it/s]\n"
          ]
        },
        {
          "output_type": "stream",
          "name": "stdout",
          "text": [
            "Epoch: 6 \tTraining Loss: 0.003008\tValid Loss: 0.002965\n"
          ]
        },
        {
          "output_type": "stream",
          "name": "stderr",
          "text": [
            "Training: 100%|████████████████████████████| 2400/2400 [00:15<00:00, 156.84it/s]\n",
            "Validating: 100%|████████████████████████████| 600/600 [00:03<00:00, 183.34it/s]\n"
          ]
        },
        {
          "output_type": "stream",
          "name": "stdout",
          "text": [
            "Epoch: 7 \tTraining Loss: 0.002953\tValid Loss: 0.002895\n"
          ]
        },
        {
          "output_type": "stream",
          "name": "stderr",
          "text": [
            "Training: 100%|████████████████████████████| 2400/2400 [00:15<00:00, 158.78it/s]\n",
            "Validating: 100%|████████████████████████████| 600/600 [00:02<00:00, 226.65it/s]\n"
          ]
        },
        {
          "output_type": "stream",
          "name": "stdout",
          "text": [
            "Epoch: 8 \tTraining Loss: 0.002903\tValid Loss: 0.002860\n"
          ]
        },
        {
          "output_type": "stream",
          "name": "stderr",
          "text": [
            "Training: 100%|████████████████████████████| 2400/2400 [00:15<00:00, 159.53it/s]\n",
            "Validating: 100%|████████████████████████████| 600/600 [00:03<00:00, 182.64it/s]\n"
          ]
        },
        {
          "output_type": "stream",
          "name": "stdout",
          "text": [
            "Epoch: 9 \tTraining Loss: 0.002874\tValid Loss: 0.002831\n"
          ]
        },
        {
          "output_type": "stream",
          "name": "stderr",
          "text": [
            "Training: 100%|████████████████████████████| 2400/2400 [00:15<00:00, 154.60it/s]\n",
            "Validating: 100%|████████████████████████████| 600/600 [00:02<00:00, 232.86it/s]\n"
          ]
        },
        {
          "output_type": "stream",
          "name": "stdout",
          "text": [
            "Epoch: 10 \tTraining Loss: 0.002845\tValid Loss: 0.002835\n"
          ]
        },
        {
          "output_type": "stream",
          "name": "stderr",
          "text": [
            "Training: 100%|████████████████████████████| 2400/2400 [00:15<00:00, 159.37it/s]\n",
            "Validating: 100%|████████████████████████████| 600/600 [00:02<00:00, 225.18it/s]\n"
          ]
        },
        {
          "output_type": "stream",
          "name": "stdout",
          "text": [
            "Epoch: 11 \tTraining Loss: 0.002827\tValid Loss: 0.002799\n"
          ]
        },
        {
          "output_type": "stream",
          "name": "stderr",
          "text": [
            "Training: 100%|████████████████████████████| 2400/2400 [00:14<00:00, 160.28it/s]\n",
            "Validating: 100%|████████████████████████████| 600/600 [00:03<00:00, 161.64it/s]\n"
          ]
        },
        {
          "output_type": "stream",
          "name": "stdout",
          "text": [
            "Epoch: 12 \tTraining Loss: 0.002811\tValid Loss: 0.002789\n"
          ]
        },
        {
          "output_type": "stream",
          "name": "stderr",
          "text": [
            "Training: 100%|████████████████████████████| 2400/2400 [00:15<00:00, 159.86it/s]\n",
            "Validating: 100%|████████████████████████████| 600/600 [00:02<00:00, 222.26it/s]\n"
          ]
        },
        {
          "output_type": "stream",
          "name": "stdout",
          "text": [
            "Epoch: 13 \tTraining Loss: 0.002797\tValid Loss: 0.002773\n"
          ]
        },
        {
          "output_type": "stream",
          "name": "stderr",
          "text": [
            "Training: 100%|████████████████████████████| 2400/2400 [00:15<00:00, 159.97it/s]\n",
            "Validating: 100%|████████████████████████████| 600/600 [00:02<00:00, 220.28it/s]\n"
          ]
        },
        {
          "output_type": "stream",
          "name": "stdout",
          "text": [
            "Epoch: 14 \tTraining Loss: 0.002787\tValid Loss: 0.002754\n"
          ]
        },
        {
          "output_type": "stream",
          "name": "stderr",
          "text": [
            "Training: 100%|████████████████████████████| 2400/2400 [00:15<00:00, 151.22it/s]\n",
            "Validating: 100%|████████████████████████████| 600/600 [00:02<00:00, 210.21it/s]\n"
          ]
        },
        {
          "output_type": "stream",
          "name": "stdout",
          "text": [
            "Epoch: 15 \tTraining Loss: 0.002770\tValid Loss: 0.002764\n"
          ]
        },
        {
          "output_type": "stream",
          "name": "stderr",
          "text": [
            "Training: 100%|████████████████████████████| 2400/2400 [00:15<00:00, 158.52it/s]\n",
            "Validating: 100%|████████████████████████████| 600/600 [00:02<00:00, 222.25it/s]\n"
          ]
        },
        {
          "output_type": "stream",
          "name": "stdout",
          "text": [
            "Epoch: 16 \tTraining Loss: 0.002765\tValid Loss: 0.002784\n"
          ]
        },
        {
          "output_type": "stream",
          "name": "stderr",
          "text": [
            "Training: 100%|████████████████████████████| 2400/2400 [00:16<00:00, 147.95it/s]\n",
            "Validating: 100%|████████████████████████████| 600/600 [00:04<00:00, 148.80it/s]\n"
          ]
        },
        {
          "output_type": "stream",
          "name": "stdout",
          "text": [
            "Epoch: 17 \tTraining Loss: 0.002757\tValid Loss: 0.002713\n"
          ]
        },
        {
          "output_type": "stream",
          "name": "stderr",
          "text": [
            "Training: 100%|████████████████████████████| 2400/2400 [00:15<00:00, 151.51it/s]\n",
            "Validating: 100%|████████████████████████████| 600/600 [00:02<00:00, 211.86it/s]\n"
          ]
        },
        {
          "output_type": "stream",
          "name": "stdout",
          "text": [
            "Epoch: 18 \tTraining Loss: 0.002743\tValid Loss: 0.002737\n"
          ]
        },
        {
          "output_type": "stream",
          "name": "stderr",
          "text": [
            "Training: 100%|████████████████████████████| 2400/2400 [00:15<00:00, 154.94it/s]\n",
            "Validating: 100%|████████████████████████████| 600/600 [00:03<00:00, 194.46it/s]\n"
          ]
        },
        {
          "output_type": "stream",
          "name": "stdout",
          "text": [
            "Epoch: 19 \tTraining Loss: 0.002735\tValid Loss: 0.002726\n"
          ]
        },
        {
          "output_type": "stream",
          "name": "stderr",
          "text": [
            "Training: 100%|████████████████████████████| 2400/2400 [00:15<00:00, 150.30it/s]\n",
            "Validating: 100%|████████████████████████████| 600/600 [00:02<00:00, 223.95it/s]"
          ]
        },
        {
          "output_type": "stream",
          "name": "stdout",
          "text": [
            "Epoch: 20 \tTraining Loss: 0.002731\tValid Loss: 0.002726\n"
          ]
        },
        {
          "output_type": "stream",
          "name": "stderr",
          "text": [
            "\n"
          ]
        }
      ]
    },
    {
      "cell_type": "code",
      "source": [
        "# obtain one batch of test images\n",
        "dataiter = iter(data_loaders['test'])\n",
        "images, labels = next(dataiter)\n",
        "\n",
        "# add noise to the test images\n",
        "noisy_imgs = images + 0.5 * torch.randn(*images.shape)\n",
        "noisy_imgs = np.clip(noisy_imgs, 0., 1.)\n",
        "\n",
        "# get sample outputs\n",
        "output = model(noisy_imgs.cuda())\n",
        "# prep images for display\n",
        "noisy_imgs = noisy_imgs.numpy()\n",
        "\n",
        "# output is resized into a batch of iages\n",
        "output = output.view(20, 1, 28, 28)\n",
        "# use detach when it's an output that requires_grad\n",
        "output = output.detach().cpu().numpy()\n",
        "\n",
        "# plot the first ten input images and then reconstructed images\n",
        "fig, axes = plt.subplots(nrows=2, ncols=10, sharex=True, sharey=True, figsize=(25,4))\n",
        "\n",
        "# input images on top row, reconstructions on bottom\n",
        "for noisy_imgs, row in zip([noisy_imgs, output], axes):\n",
        "    for img, ax in zip(noisy_imgs, row):\n",
        "        ax.imshow(np.squeeze(img), cmap='gray')\n",
        "        ax.get_xaxis().set_visible(False)\n",
        "        ax.get_yaxis().set_visible(False)"
      ],
      "metadata": {
        "colab": {
          "base_uri": "https://localhost:8080/",
          "height": 141
        },
        "id": "IvXyYfnWoc8v",
        "outputId": "81cc4569-471f-4020-e6f0-c22e6850db0a"
      },
      "execution_count": null,
      "outputs": [
        {
          "output_type": "display_data",
          "data": {
            "text/plain": [
              "<Figure size 2500x400 with 20 Axes>"
            ],
            "image/png": "[encoded data removed]"
          },
          "metadata": {}
        }
      ]
    }
  ]
}